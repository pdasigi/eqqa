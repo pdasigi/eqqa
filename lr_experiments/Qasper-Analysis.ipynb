{
 "cells": [
  {
   "cell_type": "markdown",
   "id": "91fd99d6",
   "metadata": {},
   "source": [
    "\n",
    "- [x] Read examples from google sheets\n",
    "- [x] Dataset analysis \n",
    "- [ ] Create JSON files\n",
    "- [ ] Run zero-shot LERC\n",
    "- [ ] Compute metrics"
   ]
  },
  {
   "cell_type": "code",
   "execution_count": 25,
   "id": "f52f4337",
   "metadata": {},
   "outputs": [
    {
     "data": {
      "text/html": [
       "<div>\n",
       "<style scoped>\n",
       "    .dataframe tbody tr th:only-of-type {\n",
       "        vertical-align: middle;\n",
       "    }\n",
       "\n",
       "    .dataframe tbody tr th {\n",
       "        vertical-align: top;\n",
       "    }\n",
       "\n",
       "    .dataframe thead th {\n",
       "        text-align: right;\n",
       "    }\n",
       "</style>\n",
       "<table border=\"1\" class=\"dataframe\">\n",
       "  <thead>\n",
       "    <tr style=\"text-align: right;\">\n",
       "      <th></th>\n",
       "      <th>annotation_id</th>\n",
       "      <th>annotation_type</th>\n",
       "      <th>question</th>\n",
       "      <th>reference</th>\n",
       "      <th>prediction</th>\n",
       "      <th>LERC</th>\n",
       "      <th>correctness</th>\n",
       "    </tr>\n",
       "  </thead>\n",
       "  <tbody>\n",
       "    <tr>\n",
       "      <th>0</th>\n",
       "      <td>432307ebb792ba356ec02ff3523346e7a24fc60a</td>\n",
       "      <td>extractive</td>\n",
       "      <td>What size ngram models performed best? e.g. bi...</td>\n",
       "      <td>advantage of bigrams on Subtask A was very slight</td>\n",
       "      <td>Unanswerable</td>\n",
       "      <td>1.151097</td>\n",
       "      <td>0.00</td>\n",
       "    </tr>\n",
       "    <tr>\n",
       "      <th>1</th>\n",
       "      <td>162cbc100d96539e18f3dd8a445837bfdf6d2c4f</td>\n",
       "      <td>boolean</td>\n",
       "      <td>did they experiment with other languages?</td>\n",
       "      <td>No</td>\n",
       "      <td>Yes</td>\n",
       "      <td>1.005072</td>\n",
       "      <td>0.00</td>\n",
       "    </tr>\n",
       "    <tr>\n",
       "      <th>2</th>\n",
       "      <td>0c0c9d2c5fc4c144d6fbc1f0e875219f6407ed06</td>\n",
       "      <td>abstractive</td>\n",
       "      <td>How are the results evaluated?</td>\n",
       "      <td>With a questionnaire asking subjects to rank m...</td>\n",
       "      <td>the results provided by the proposed method we...</td>\n",
       "      <td>1.432871</td>\n",
       "      <td>0.00</td>\n",
       "    </tr>\n",
       "    <tr>\n",
       "      <th>3</th>\n",
       "      <td>83d16a90685b94fe9a92a83e74724fe0ba832912</td>\n",
       "      <td>boolean</td>\n",
       "      <td>Do they report results only on English data?</td>\n",
       "      <td>Yes</td>\n",
       "      <td>Unanswerable</td>\n",
       "      <td>1.373799</td>\n",
       "      <td>0.00</td>\n",
       "    </tr>\n",
       "    <tr>\n",
       "      <th>4</th>\n",
       "      <td>9971d5fec71a89f984ebabb7e30058b17f2f1a9f</td>\n",
       "      <td>extractive</td>\n",
       "      <td>What language is used for the experiments?</td>\n",
       "      <td>English</td>\n",
       "      <td>Unanswerable</td>\n",
       "      <td>1.211834</td>\n",
       "      <td>0.00</td>\n",
       "    </tr>\n",
       "    <tr>\n",
       "      <th>...</th>\n",
       "      <td>...</td>\n",
       "      <td>...</td>\n",
       "      <td>...</td>\n",
       "      <td>...</td>\n",
       "      <td>...</td>\n",
       "      <td>...</td>\n",
       "      <td>...</td>\n",
       "    </tr>\n",
       "    <tr>\n",
       "      <th>195</th>\n",
       "      <td>33bfd6cfadf0cffbb193aeab89867b8bc73d94b3</td>\n",
       "      <td>abstractive</td>\n",
       "      <td>What other tasks do they test their method on?</td>\n",
       "      <td>None</td>\n",
       "      <td>task of predicting hashtags from characters in...</td>\n",
       "      <td>0.829131</td>\n",
       "      <td>0.00</td>\n",
       "    </tr>\n",
       "    <tr>\n",
       "      <th>196</th>\n",
       "      <td>b250fd2019421911362cc78e7fe0696615ed0284</td>\n",
       "      <td>abstractive</td>\n",
       "      <td>What is the size of the new dataset?</td>\n",
       "      <td>14,100 tweets</td>\n",
       "      <td>14,100 tweets</td>\n",
       "      <td>5.083067</td>\n",
       "      <td>1.00</td>\n",
       "    </tr>\n",
       "    <tr>\n",
       "      <th>197</th>\n",
       "      <td>4fcd5fec657a87a2da9afdd900961d34eedbaac7</td>\n",
       "      <td>abstractive</td>\n",
       "      <td>which algorithm was the highest performer?</td>\n",
       "      <td>A hybrid model consisting of best performing p...</td>\n",
       "      <td>Normalized Discounted Cumulative Gain (nDCG) B...</td>\n",
       "      <td>1.097943</td>\n",
       "      <td>0.00</td>\n",
       "    </tr>\n",
       "    <tr>\n",
       "      <th>198</th>\n",
       "      <td>5573af4ed6908677bb3e911b0699fecd657a3e38</td>\n",
       "      <td>abstractive</td>\n",
       "      <td>How do they combine a deep learning model with...</td>\n",
       "      <td>Entities from a deep learning model are linked...</td>\n",
       "      <td>They use a deep learning model to learn inform...</td>\n",
       "      <td>1.392461</td>\n",
       "      <td>0.00</td>\n",
       "    </tr>\n",
       "    <tr>\n",
       "      <th>199</th>\n",
       "      <td>ec6b4edbdeef73c6352c5a37971964a0b2fbe16c</td>\n",
       "      <td>abstractive</td>\n",
       "      <td>What are the five different binary classificat...</td>\n",
       "      <td>presence/absence of consonants, presence/absen...</td>\n",
       "      <td>Speech imagery, phonemic nasal, bilabial, high...</td>\n",
       "      <td>2.817428</td>\n",
       "      <td>0.75</td>\n",
       "    </tr>\n",
       "  </tbody>\n",
       "</table>\n",
       "<p>200 rows × 7 columns</p>\n",
       "</div>"
      ],
      "text/plain": [
       "                                annotation_id annotation_type  \\\n",
       "0    432307ebb792ba356ec02ff3523346e7a24fc60a      extractive   \n",
       "1    162cbc100d96539e18f3dd8a445837bfdf6d2c4f         boolean   \n",
       "2    0c0c9d2c5fc4c144d6fbc1f0e875219f6407ed06     abstractive   \n",
       "3    83d16a90685b94fe9a92a83e74724fe0ba832912         boolean   \n",
       "4    9971d5fec71a89f984ebabb7e30058b17f2f1a9f      extractive   \n",
       "..                                        ...             ...   \n",
       "195  33bfd6cfadf0cffbb193aeab89867b8bc73d94b3     abstractive   \n",
       "196  b250fd2019421911362cc78e7fe0696615ed0284     abstractive   \n",
       "197  4fcd5fec657a87a2da9afdd900961d34eedbaac7     abstractive   \n",
       "198  5573af4ed6908677bb3e911b0699fecd657a3e38     abstractive   \n",
       "199  ec6b4edbdeef73c6352c5a37971964a0b2fbe16c     abstractive   \n",
       "\n",
       "                                              question  \\\n",
       "0    What size ngram models performed best? e.g. bi...   \n",
       "1            did they experiment with other languages?   \n",
       "2                       How are the results evaluated?   \n",
       "3         Do they report results only on English data?   \n",
       "4           What language is used for the experiments?   \n",
       "..                                                 ...   \n",
       "195     What other tasks do they test their method on?   \n",
       "196               What is the size of the new dataset?   \n",
       "197         which algorithm was the highest performer?   \n",
       "198  How do they combine a deep learning model with...   \n",
       "199  What are the five different binary classificat...   \n",
       "\n",
       "                                             reference  \\\n",
       "0    advantage of bigrams on Subtask A was very slight   \n",
       "1                                                   No   \n",
       "2    With a questionnaire asking subjects to rank m...   \n",
       "3                                                  Yes   \n",
       "4                                              English   \n",
       "..                                                 ...   \n",
       "195                                               None   \n",
       "196                                      14,100 tweets   \n",
       "197  A hybrid model consisting of best performing p...   \n",
       "198  Entities from a deep learning model are linked...   \n",
       "199  presence/absence of consonants, presence/absen...   \n",
       "\n",
       "                                            prediction      LERC  correctness  \n",
       "0                                         Unanswerable  1.151097         0.00  \n",
       "1                                                  Yes  1.005072         0.00  \n",
       "2    the results provided by the proposed method we...  1.432871         0.00  \n",
       "3                                         Unanswerable  1.373799         0.00  \n",
       "4                                         Unanswerable  1.211834         0.00  \n",
       "..                                                 ...       ...          ...  \n",
       "195  task of predicting hashtags from characters in...  0.829131         0.00  \n",
       "196                                      14,100 tweets  5.083067         1.00  \n",
       "197  Normalized Discounted Cumulative Gain (nDCG) B...  1.097943         0.00  \n",
       "198  They use a deep learning model to learn inform...  1.392461         0.00  \n",
       "199  Speech imagery, phonemic nasal, bilabial, high...  2.817428         0.75  \n",
       "\n",
       "[200 rows x 7 columns]"
      ]
     },
     "execution_count": 25,
     "metadata": {},
     "output_type": "execute_result"
    }
   ],
   "source": [
    "import pandas as pd \n",
    "\n",
    "# https://docs.google.com/spreadsheets/d/1ENuTNVL8xh2YGePoTOuNtLVaelr0L9-xylyzhMLcKOk/edit?usp=sharing\n",
    "\n",
    "sheet_id = \"1ENuTNVL8xh2YGePoTOuNtLVaelr0L9-xylyzhMLcKOk\"\n",
    "sheet1_name = \"Correctness\"\n",
    "sheet2_name = \"Abstractive_answer_correctness_correlation\"\n",
    "\n",
    "def get_gdrive_url(sid, sname) -> str:\n",
    "    return f\"https://docs.google.com/spreadsheets/d/{sid}/gviz/tq?tqx=out:csv&sheet={sname}\"\n",
    "\n",
    "sheets_url = [get_gdrive_url(sheet_id, sheet_name) for sheet_name in (sheet1_name, sheet2_name)]\n",
    "sheets = [pd.read_csv(url) for url in sheets_url]\n",
    "sheets = pd.concat(sheets).reset_index(drop=True)\n",
    "assert sheets.annotation_id.nunique() == 200\n",
    "sheets"
   ]
  },
  {
   "cell_type": "code",
   "execution_count": 26,
   "id": "11460342",
   "metadata": {},
   "outputs": [
    {
     "name": "stdout",
     "output_type": "stream",
     "text": [
      "<class 'pandas.core.frame.DataFrame'>\n",
      "RangeIndex: 200 entries, 0 to 199\n",
      "Data columns (total 7 columns):\n",
      " #   Column           Non-Null Count  Dtype  \n",
      "---  ------           --------------  -----  \n",
      " 0   annotation_id    200 non-null    object \n",
      " 1   annotation_type  200 non-null    object \n",
      " 2   question         200 non-null    object \n",
      " 3   reference        200 non-null    object \n",
      " 4   prediction       200 non-null    object \n",
      " 5   LERC             200 non-null    float64\n",
      " 6   correctness      200 non-null    float64\n",
      "dtypes: float64(2), object(5)\n",
      "memory usage: 11.1+ KB\n"
     ]
    }
   ],
   "source": [
    "sheets.info()"
   ]
  },
  {
   "cell_type": "code",
   "execution_count": 27,
   "id": "ae003717",
   "metadata": {},
   "outputs": [
    {
     "data": {
      "text/plain": [
       "abstractive    120\n",
       "extractive      54\n",
       "boolean         16\n",
       "none            10\n",
       "Name: annotation_type, dtype: int64"
      ]
     },
     "execution_count": 27,
     "metadata": {},
     "output_type": "execute_result"
    }
   ],
   "source": [
    "sheets.annotation_type.value_counts()"
   ]
  },
  {
   "cell_type": "code",
   "execution_count": 28,
   "id": "4a64ecdc",
   "metadata": {},
   "outputs": [
    {
     "data": {
      "text/plain": [
       "0.00    148\n",
       "1.00     20\n",
       "0.50     15\n",
       "0.25     10\n",
       "0.75      7\n",
       "Name: correctness, dtype: int64"
      ]
     },
     "execution_count": 28,
     "metadata": {},
     "output_type": "execute_result"
    }
   ],
   "source": [
    "sheets.correctness.value_counts()"
   ]
  },
  {
   "cell_type": "code",
   "execution_count": 29,
   "id": "28bfb4f5",
   "metadata": {},
   "outputs": [],
   "source": [
    "import seaborn as sns\n",
    "import matplotlib.pyplot as plt"
   ]
  },
  {
   "cell_type": "code",
   "execution_count": 30,
   "id": "9eeea13d",
   "metadata": {},
   "outputs": [
    {
     "data": {
      "text/plain": [
       "Text(0.5, 0, 'Annotation Type')"
      ]
     },
     "execution_count": 30,
     "metadata": {},
     "output_type": "execute_result"
    },
    {
     "data": {
      "image/png": "[encoded data removed]",
      "text/plain": [
       "<Figure size 432x288 with 1 Axes>"
      ]
     },
     "metadata": {
      "needs_background": "light"
     },
     "output_type": "display_data"
    }
   ],
   "source": [
    "sns.histplot(data=sheets.annotation_type)\n",
    "plt.xlabel(\"Annotation Type\")"
   ]
  },
  {
   "cell_type": "code",
   "execution_count": 31,
   "id": "bfeb5f18",
   "metadata": {},
   "outputs": [
    {
     "data": {
      "text/plain": [
       "Text(0.5, 0, 'Correctness')"
      ]
     },
     "execution_count": 31,
     "metadata": {},
     "output_type": "execute_result"
    },
    {
     "data": {
      "image/png": "[encoded data removed]",
      "text/plain": [
       "<Figure size 432x288 with 1 Axes>"
      ]
     },
     "metadata": {
      "needs_background": "light"
     },
     "output_type": "display_data"
    }
   ],
   "source": [
    "sns.histplot(data=sheets.correctness)\n",
    "plt.xlabel(\"Correctness\")"
   ]
  },
  {
   "cell_type": "code",
   "execution_count": 46,
   "id": "3a9fef01",
   "metadata": {},
   "outputs": [
    {
     "data": {
      "text/plain": [
       "Text(0.5, 0, 'LERC')"
      ]
     },
     "execution_count": 46,
     "metadata": {},
     "output_type": "execute_result"
    },
    {
     "data": {
      "image/png": "[encoded data removed]",
      "text/plain": [
       "<Figure size 432x288 with 1 Axes>"
      ]
     },
     "metadata": {
      "needs_background": "light"
     },
     "output_type": "display_data"
    }
   ],
   "source": [
    "sns.histplot(data=sheets.LERC)\n",
    "plt.xlabel(\"LERC\")"
   ]
  },
  {
   "cell_type": "code",
   "execution_count": 48,
   "id": "fca0fca0",
   "metadata": {},
   "outputs": [
    {
     "data": {
      "text/plain": [
       "Text(0.5, 0, 'LERC')"
      ]
     },
     "execution_count": 48,
     "metadata": {},
     "output_type": "execute_result"
    },
    {
     "data": {
      "image/png": "[encoded data removed]",
      "text/plain": [
       "<Figure size 432x288 with 1 Axes>"
      ]
     },
     "metadata": {
      "needs_background": "light"
     },
     "output_type": "display_data"
    }
   ],
   "source": [
    "sns.histplot(data=sheets, x=\"LERC\", hue=\"annotation_type\", multiple=\"stack\")\n",
    "plt.xlabel(\"LERC\")"
   ]
  },
  {
   "cell_type": "code",
   "execution_count": 51,
   "id": "adb170ff",
   "metadata": {},
   "outputs": [
    {
     "data": {
      "text/plain": [
       "Text(0.5, 0, 'LERC')"
      ]
     },
     "execution_count": 51,
     "metadata": {},
     "output_type": "execute_result"
    },
    {
     "data": {
      "image/png": "[encoded data removed]",
      "text/plain": [
       "<Figure size 432x288 with 1 Axes>"
      ]
     },
     "metadata": {
      "needs_background": "light"
     },
     "output_type": "display_data"
    }
   ],
   "source": [
    "sns.histplot(data=sheets, x=\"LERC\", hue=\"correctness\", multiple=\"stack\")\n",
    "plt.xlabel(\"LERC\")"
   ]
  },
  {
   "cell_type": "code",
   "execution_count": 32,
   "id": "a5557c16",
   "metadata": {},
   "outputs": [
    {
     "data": {
      "text/plain": [
       "Text(0.5, 0, 'Correctness')"
      ]
     },
     "execution_count": 32,
     "metadata": {},
     "output_type": "execute_result"
    },
    {
     "data": {
      "image/png": "[encoded data removed]",
      "text/plain": [
       "<Figure size 432x288 with 1 Axes>"
      ]
     },
     "metadata": {
      "needs_background": "light"
     },
     "output_type": "display_data"
    }
   ],
   "source": [
    "sns.histplot(data=sheets, x=\"correctness\", hue=\"annotation_type\", multiple=\"stack\")\n",
    "plt.xlabel(\"Correctness\")"
   ]
  },
  {
   "cell_type": "code",
   "execution_count": 33,
   "id": "d126a10b",
   "metadata": {},
   "outputs": [
    {
     "data": {
      "text/plain": [
       "10"
      ]
     },
     "execution_count": 33,
     "metadata": {},
     "output_type": "execute_result"
    }
   ],
   "source": [
    "(sheets.reference == sheets.prediction).sum()"
   ]
  },
  {
   "cell_type": "code",
   "execution_count": 34,
   "id": "d44eec04",
   "metadata": {},
   "outputs": [
    {
     "data": {
      "text/html": [
       "<div>\n",
       "<style scoped>\n",
       "    .dataframe tbody tr th:only-of-type {\n",
       "        vertical-align: middle;\n",
       "    }\n",
       "\n",
       "    .dataframe tbody tr th {\n",
       "        vertical-align: top;\n",
       "    }\n",
       "\n",
       "    .dataframe thead th {\n",
       "        text-align: right;\n",
       "    }\n",
       "</style>\n",
       "<table border=\"1\" class=\"dataframe\">\n",
       "  <thead>\n",
       "    <tr style=\"text-align: right;\">\n",
       "      <th></th>\n",
       "      <th>annotation_id</th>\n",
       "      <th>annotation_type</th>\n",
       "      <th>question</th>\n",
       "      <th>reference</th>\n",
       "      <th>prediction</th>\n",
       "      <th>LERC</th>\n",
       "      <th>correctness</th>\n",
       "    </tr>\n",
       "  </thead>\n",
       "  <tbody>\n",
       "    <tr>\n",
       "      <th>9</th>\n",
       "      <td>9a1809d77dde373adc81195da44c85a3f3ddeb9d</td>\n",
       "      <td>boolean</td>\n",
       "      <td>Do they use all the hidden layer representations?</td>\n",
       "      <td>Yes</td>\n",
       "      <td>Yes</td>\n",
       "      <td>5.078454</td>\n",
       "      <td>1.0</td>\n",
       "    </tr>\n",
       "    <tr>\n",
       "      <th>37</th>\n",
       "      <td>bfcdb68885bdf1350102f50d764e82372ff83d8a</td>\n",
       "      <td>boolean</td>\n",
       "      <td>Do they analyze attention outputs to determine...</td>\n",
       "      <td>No</td>\n",
       "      <td>No</td>\n",
       "      <td>5.030257</td>\n",
       "      <td>1.0</td>\n",
       "    </tr>\n",
       "    <tr>\n",
       "      <th>38</th>\n",
       "      <td>e3122daa6fc9705fbea240ac15e24f5b32d0eb50</td>\n",
       "      <td>boolean</td>\n",
       "      <td>Are constructed datasets open sourced?</td>\n",
       "      <td>Yes</td>\n",
       "      <td>Yes</td>\n",
       "      <td>5.070571</td>\n",
       "      <td>1.0</td>\n",
       "    </tr>\n",
       "    <tr>\n",
       "      <th>44</th>\n",
       "      <td>7e6171878d689c3df00fbd39120fae5be22a87e6</td>\n",
       "      <td>boolean</td>\n",
       "      <td>Does the baseline use any contextual information?</td>\n",
       "      <td>No</td>\n",
       "      <td>No</td>\n",
       "      <td>5.078834</td>\n",
       "      <td>1.0</td>\n",
       "    </tr>\n",
       "    <tr>\n",
       "      <th>45</th>\n",
       "      <td>1671c932434c4c9adde9155ae0f335d6ede0bee3</td>\n",
       "      <td>extractive</td>\n",
       "      <td>How does counterfactual data augmentation affe...</td>\n",
       "      <td>Unanswerable</td>\n",
       "      <td>Unanswerable</td>\n",
       "      <td>1.990820</td>\n",
       "      <td>0.0</td>\n",
       "    </tr>\n",
       "    <tr>\n",
       "      <th>48</th>\n",
       "      <td>0fed44ec716a8a7673f5d3f7d675904d9d773b96</td>\n",
       "      <td>boolean</td>\n",
       "      <td>Is English a pro-drop language?</td>\n",
       "      <td>No</td>\n",
       "      <td>No</td>\n",
       "      <td>5.073115</td>\n",
       "      <td>1.0</td>\n",
       "    </tr>\n",
       "    <tr>\n",
       "      <th>59</th>\n",
       "      <td>cdc2fa54e952ba32949ca756aafcc82906f4b6fa</td>\n",
       "      <td>none</td>\n",
       "      <td>what lexical features are extracted?</td>\n",
       "      <td>Unanswerable</td>\n",
       "      <td>Unanswerable</td>\n",
       "      <td>5.060999</td>\n",
       "      <td>1.0</td>\n",
       "    </tr>\n",
       "    <tr>\n",
       "      <th>65</th>\n",
       "      <td>b4a7bf87d0696bc1b86b5eb48ee693be5d917cb4</td>\n",
       "      <td>boolean</td>\n",
       "      <td>did they experiment with other text embeddings?</td>\n",
       "      <td>No</td>\n",
       "      <td>No</td>\n",
       "      <td>0.994450</td>\n",
       "      <td>0.0</td>\n",
       "    </tr>\n",
       "    <tr>\n",
       "      <th>94</th>\n",
       "      <td>78b2688883324dba910a289ce5eaf872f18c62d8</td>\n",
       "      <td>extractive</td>\n",
       "      <td>How long is their dataset?</td>\n",
       "      <td>670 publications</td>\n",
       "      <td>670 publications</td>\n",
       "      <td>5.056758</td>\n",
       "      <td>1.0</td>\n",
       "    </tr>\n",
       "    <tr>\n",
       "      <th>196</th>\n",
       "      <td>b250fd2019421911362cc78e7fe0696615ed0284</td>\n",
       "      <td>abstractive</td>\n",
       "      <td>What is the size of the new dataset?</td>\n",
       "      <td>14,100 tweets</td>\n",
       "      <td>14,100 tweets</td>\n",
       "      <td>5.083067</td>\n",
       "      <td>1.0</td>\n",
       "    </tr>\n",
       "  </tbody>\n",
       "</table>\n",
       "</div>"
      ],
      "text/plain": [
       "                                annotation_id annotation_type  \\\n",
       "9    9a1809d77dde373adc81195da44c85a3f3ddeb9d         boolean   \n",
       "37   bfcdb68885bdf1350102f50d764e82372ff83d8a         boolean   \n",
       "38   e3122daa6fc9705fbea240ac15e24f5b32d0eb50         boolean   \n",
       "44   7e6171878d689c3df00fbd39120fae5be22a87e6         boolean   \n",
       "45   1671c932434c4c9adde9155ae0f335d6ede0bee3      extractive   \n",
       "48   0fed44ec716a8a7673f5d3f7d675904d9d773b96         boolean   \n",
       "59   cdc2fa54e952ba32949ca756aafcc82906f4b6fa            none   \n",
       "65   b4a7bf87d0696bc1b86b5eb48ee693be5d917cb4         boolean   \n",
       "94   78b2688883324dba910a289ce5eaf872f18c62d8      extractive   \n",
       "196  b250fd2019421911362cc78e7fe0696615ed0284     abstractive   \n",
       "\n",
       "                                              question         reference  \\\n",
       "9    Do they use all the hidden layer representations?               Yes   \n",
       "37   Do they analyze attention outputs to determine...                No   \n",
       "38              Are constructed datasets open sourced?               Yes   \n",
       "44   Does the baseline use any contextual information?                No   \n",
       "45   How does counterfactual data augmentation affe...      Unanswerable   \n",
       "48                     Is English a pro-drop language?                No   \n",
       "59                what lexical features are extracted?      Unanswerable   \n",
       "65     did they experiment with other text embeddings?                No   \n",
       "94                          How long is their dataset?  670 publications   \n",
       "196               What is the size of the new dataset?     14,100 tweets   \n",
       "\n",
       "           prediction      LERC  correctness  \n",
       "9                 Yes  5.078454          1.0  \n",
       "37                 No  5.030257          1.0  \n",
       "38                Yes  5.070571          1.0  \n",
       "44                 No  5.078834          1.0  \n",
       "45       Unanswerable  1.990820          0.0  \n",
       "48                 No  5.073115          1.0  \n",
       "59       Unanswerable  5.060999          1.0  \n",
       "65                 No  0.994450          0.0  \n",
       "94   670 publications  5.056758          1.0  \n",
       "196     14,100 tweets  5.083067          1.0  "
      ]
     },
     "execution_count": 34,
     "metadata": {},
     "output_type": "execute_result"
    }
   ],
   "source": [
    "sheets[sheets.reference == sheets.prediction]"
   ]
  },
  {
   "cell_type": "code",
   "execution_count": 45,
   "id": "8b893e25",
   "metadata": {},
   "outputs": [
    {
     "data": {
      "text/html": [
       "<div>\n",
       "<style scoped>\n",
       "    .dataframe tbody tr th:only-of-type {\n",
       "        vertical-align: middle;\n",
       "    }\n",
       "\n",
       "    .dataframe tbody tr th {\n",
       "        vertical-align: top;\n",
       "    }\n",
       "\n",
       "    .dataframe thead th {\n",
       "        text-align: right;\n",
       "    }\n",
       "</style>\n",
       "<table border=\"1\" class=\"dataframe\">\n",
       "  <thead>\n",
       "    <tr style=\"text-align: right;\">\n",
       "      <th></th>\n",
       "      <th>annotation_id</th>\n",
       "      <th>annotation_type</th>\n",
       "      <th>question</th>\n",
       "      <th>reference</th>\n",
       "      <th>prediction</th>\n",
       "      <th>LERC</th>\n",
       "      <th>correctness</th>\n",
       "      <th>reference_len_bin</th>\n",
       "    </tr>\n",
       "  </thead>\n",
       "  <tbody>\n",
       "    <tr>\n",
       "      <th>1</th>\n",
       "      <td>162cbc100d96539e18f3dd8a445837bfdf6d2c4f</td>\n",
       "      <td>boolean</td>\n",
       "      <td>did they experiment with other languages?</td>\n",
       "      <td>No</td>\n",
       "      <td>Yes</td>\n",
       "      <td>1.005072</td>\n",
       "      <td>0.0</td>\n",
       "      <td>0</td>\n",
       "    </tr>\n",
       "    <tr>\n",
       "      <th>9</th>\n",
       "      <td>9a1809d77dde373adc81195da44c85a3f3ddeb9d</td>\n",
       "      <td>boolean</td>\n",
       "      <td>Do they use all the hidden layer representations?</td>\n",
       "      <td>Yes</td>\n",
       "      <td>Yes</td>\n",
       "      <td>5.078454</td>\n",
       "      <td>1.0</td>\n",
       "      <td>0</td>\n",
       "    </tr>\n",
       "    <tr>\n",
       "      <th>14</th>\n",
       "      <td>d77a4c1443fc803a4daf4b69bcbdeb30d6559652</td>\n",
       "      <td>boolean</td>\n",
       "      <td>Does this work differentiate metaphor(techniqu...</td>\n",
       "      <td>No</td>\n",
       "      <td>Yes</td>\n",
       "      <td>5.049659</td>\n",
       "      <td>1.0</td>\n",
       "      <td>0</td>\n",
       "    </tr>\n",
       "    <tr>\n",
       "      <th>25</th>\n",
       "      <td>5c8b526242c77976c71cc4d65a45b33834dda6f5</td>\n",
       "      <td>none</td>\n",
       "      <td>Did they collect their own corpus?</td>\n",
       "      <td>Unanswerable</td>\n",
       "      <td>No</td>\n",
       "      <td>3.601686</td>\n",
       "      <td>0.0</td>\n",
       "      <td>0</td>\n",
       "    </tr>\n",
       "    <tr>\n",
       "      <th>37</th>\n",
       "      <td>bfcdb68885bdf1350102f50d764e82372ff83d8a</td>\n",
       "      <td>boolean</td>\n",
       "      <td>Do they analyze attention outputs to determine...</td>\n",
       "      <td>No</td>\n",
       "      <td>No</td>\n",
       "      <td>5.030257</td>\n",
       "      <td>1.0</td>\n",
       "      <td>0</td>\n",
       "    </tr>\n",
       "    <tr>\n",
       "      <th>38</th>\n",
       "      <td>e3122daa6fc9705fbea240ac15e24f5b32d0eb50</td>\n",
       "      <td>boolean</td>\n",
       "      <td>Are constructed datasets open sourced?</td>\n",
       "      <td>Yes</td>\n",
       "      <td>Yes</td>\n",
       "      <td>5.070571</td>\n",
       "      <td>1.0</td>\n",
       "      <td>0</td>\n",
       "    </tr>\n",
       "    <tr>\n",
       "      <th>44</th>\n",
       "      <td>7e6171878d689c3df00fbd39120fae5be22a87e6</td>\n",
       "      <td>boolean</td>\n",
       "      <td>Does the baseline use any contextual information?</td>\n",
       "      <td>No</td>\n",
       "      <td>No</td>\n",
       "      <td>5.078834</td>\n",
       "      <td>1.0</td>\n",
       "      <td>0</td>\n",
       "    </tr>\n",
       "    <tr>\n",
       "      <th>48</th>\n",
       "      <td>0fed44ec716a8a7673f5d3f7d675904d9d773b96</td>\n",
       "      <td>boolean</td>\n",
       "      <td>Is English a pro-drop language?</td>\n",
       "      <td>No</td>\n",
       "      <td>No</td>\n",
       "      <td>5.073115</td>\n",
       "      <td>1.0</td>\n",
       "      <td>0</td>\n",
       "    </tr>\n",
       "    <tr>\n",
       "      <th>49</th>\n",
       "      <td>bd6c1da455b10c077979e36651ce696e85eca0c8</td>\n",
       "      <td>boolean</td>\n",
       "      <td>Do they test against the large version of RoBE...</td>\n",
       "      <td>Yes</td>\n",
       "      <td>No</td>\n",
       "      <td>0.997800</td>\n",
       "      <td>0.0</td>\n",
       "      <td>0</td>\n",
       "    </tr>\n",
       "    <tr>\n",
       "      <th>53</th>\n",
       "      <td>87dd9eb0b55a160563bfc7edc5da79d82be44659</td>\n",
       "      <td>boolean</td>\n",
       "      <td>Does the paper list other heuristic biases in ...</td>\n",
       "      <td>Yes</td>\n",
       "      <td>No</td>\n",
       "      <td>1.000522</td>\n",
       "      <td>0.0</td>\n",
       "      <td>0</td>\n",
       "    </tr>\n",
       "    <tr>\n",
       "      <th>56</th>\n",
       "      <td>4fcc24fb31ad69dac38871b3736402d09fc19c55</td>\n",
       "      <td>boolean</td>\n",
       "      <td>Is Henry VIII reflective of Shakespeare in gen...</td>\n",
       "      <td>No</td>\n",
       "      <td>Yes</td>\n",
       "      <td>1.077209</td>\n",
       "      <td>0.0</td>\n",
       "      <td>0</td>\n",
       "    </tr>\n",
       "    <tr>\n",
       "      <th>58</th>\n",
       "      <td>391896a615acf134e0391001302e4c944d11455a</td>\n",
       "      <td>boolean</td>\n",
       "      <td>does incorporating user traits help the task?</td>\n",
       "      <td>only in the 806-class task predicting &lt;= 25 cl...</td>\n",
       "      <td>No</td>\n",
       "      <td>5.052334</td>\n",
       "      <td>1.0</td>\n",
       "      <td>1</td>\n",
       "    </tr>\n",
       "    <tr>\n",
       "      <th>65</th>\n",
       "      <td>b4a7bf87d0696bc1b86b5eb48ee693be5d917cb4</td>\n",
       "      <td>boolean</td>\n",
       "      <td>did they experiment with other text embeddings?</td>\n",
       "      <td>No</td>\n",
       "      <td>No</td>\n",
       "      <td>0.994450</td>\n",
       "      <td>0.0</td>\n",
       "      <td>0</td>\n",
       "    </tr>\n",
       "    <tr>\n",
       "      <th>67</th>\n",
       "      <td>282696575ffc20f26d205ec77f649ce5c76a8111</td>\n",
       "      <td>abstractive</td>\n",
       "      <td>Is this done in form of unsupervised (clusteri...</td>\n",
       "      <td>Unsupervised</td>\n",
       "      <td>No</td>\n",
       "      <td>1.054821</td>\n",
       "      <td>0.0</td>\n",
       "      <td>0</td>\n",
       "    </tr>\n",
       "    <tr>\n",
       "      <th>69</th>\n",
       "      <td>70aae683445bb2665583e91a9e6d5ae4746d43a1</td>\n",
       "      <td>boolean</td>\n",
       "      <td>Is the embedding model test in any downstream ...</td>\n",
       "      <td>Yes</td>\n",
       "      <td>No</td>\n",
       "      <td>0.922813</td>\n",
       "      <td>0.0</td>\n",
       "      <td>0</td>\n",
       "    </tr>\n",
       "    <tr>\n",
       "      <th>70</th>\n",
       "      <td>bae2b24ebbc3bf2da066ea43c99342bb4f2c58d7</td>\n",
       "      <td>none</td>\n",
       "      <td>Do they analyze which types of sentences/revie...</td>\n",
       "      <td>Unanswerable</td>\n",
       "      <td>No</td>\n",
       "      <td>3.351460</td>\n",
       "      <td>0.0</td>\n",
       "      <td>0</td>\n",
       "    </tr>\n",
       "    <tr>\n",
       "      <th>75</th>\n",
       "      <td>1ec85962ede0447d69c9ebc3cf9aeb004678ddf5</td>\n",
       "      <td>boolean</td>\n",
       "      <td>Do they report the annotation agreement?</td>\n",
       "      <td>Yes</td>\n",
       "      <td>No</td>\n",
       "      <td>1.052048</td>\n",
       "      <td>0.0</td>\n",
       "      <td>0</td>\n",
       "    </tr>\n",
       "    <tr>\n",
       "      <th>80</th>\n",
       "      <td>28f414828dbd453c48239b09751c59ab82373c6b</td>\n",
       "      <td>none</td>\n",
       "      <td>Do the authors report results on only English ...</td>\n",
       "      <td>Unanswerable</td>\n",
       "      <td>Yes</td>\n",
       "      <td>1.096581</td>\n",
       "      <td>0.0</td>\n",
       "      <td>0</td>\n",
       "    </tr>\n",
       "    <tr>\n",
       "      <th>88</th>\n",
       "      <td>76cb0665bc128e25a6f40a861d626eba4bc7d147</td>\n",
       "      <td>none</td>\n",
       "      <td>Can their method be transferred to other Q&amp;A p...</td>\n",
       "      <td>Unanswerable</td>\n",
       "      <td>No</td>\n",
       "      <td>3.445028</td>\n",
       "      <td>0.0</td>\n",
       "      <td>0</td>\n",
       "    </tr>\n",
       "    <tr>\n",
       "      <th>102</th>\n",
       "      <td>dec777c635cfb2bc735d2b56fdf16e6c5e1fb38e</td>\n",
       "      <td>abstractive</td>\n",
       "      <td>Do they use datasets with transcribed text or ...</td>\n",
       "      <td>both</td>\n",
       "      <td>Yes</td>\n",
       "      <td>3.737829</td>\n",
       "      <td>0.0</td>\n",
       "      <td>0</td>\n",
       "    </tr>\n",
       "    <tr>\n",
       "      <th>121</th>\n",
       "      <td>0596e64af3a847e0c948a28419268e69c1b43535</td>\n",
       "      <td>abstractive</td>\n",
       "      <td>Are the annotations automatic or manually crea...</td>\n",
       "      <td>Automatic</td>\n",
       "      <td>Yes</td>\n",
       "      <td>0.705877</td>\n",
       "      <td>0.0</td>\n",
       "      <td>0</td>\n",
       "    </tr>\n",
       "    <tr>\n",
       "      <th>137</th>\n",
       "      <td>677abb25656df57ddd31fc63532d69a5b564465b</td>\n",
       "      <td>abstractive</td>\n",
       "      <td>Do they focus on Reading Comprehension or mult...</td>\n",
       "      <td>MULTIPLE CHOICE QUESTION ANSWERING</td>\n",
       "      <td>No</td>\n",
       "      <td>0.938234</td>\n",
       "      <td>0.0</td>\n",
       "      <td>0</td>\n",
       "    </tr>\n",
       "    <tr>\n",
       "      <th>144</th>\n",
       "      <td>4ebc2c029ec2a7c09e062b24455d386830b0b1ba</td>\n",
       "      <td>abstractive</td>\n",
       "      <td>HOw does the method perform compared with base...</td>\n",
       "      <td>On the datasets DE-EN, JA-EN, RO-EN, and EN-DE...</td>\n",
       "      <td>No</td>\n",
       "      <td>1.815972</td>\n",
       "      <td>0.0</td>\n",
       "      <td>3</td>\n",
       "    </tr>\n",
       "    <tr>\n",
       "      <th>150</th>\n",
       "      <td>a5b18f5049e570609f001691b615ebbf0fb92023</td>\n",
       "      <td>abstractive</td>\n",
       "      <td>Does the model evaluated on NLG datasets or di...</td>\n",
       "      <td>NLG datasets</td>\n",
       "      <td>No</td>\n",
       "      <td>1.884987</td>\n",
       "      <td>0.0</td>\n",
       "      <td>0</td>\n",
       "    </tr>\n",
       "    <tr>\n",
       "      <th>161</th>\n",
       "      <td>5103743e0b630c27ab4f9edb52bad084202bd16f</td>\n",
       "      <td>abstractive</td>\n",
       "      <td>IS the graph representation supervised?</td>\n",
       "      <td>The graph representation appears to be semi-su...</td>\n",
       "      <td>No</td>\n",
       "      <td>1.342062</td>\n",
       "      <td>0.5</td>\n",
       "      <td>3</td>\n",
       "    </tr>\n",
       "    <tr>\n",
       "      <th>185</th>\n",
       "      <td>f5f6bb057e95cc4c6fc4d9237a726d46e8d970b0</td>\n",
       "      <td>abstractive</td>\n",
       "      <td>Did ensemble schemes help in boosting peforman...</td>\n",
       "      <td>They increased F1 Score by 0.029 in Sentence L...</td>\n",
       "      <td>No</td>\n",
       "      <td>1.547233</td>\n",
       "      <td>0.0</td>\n",
       "      <td>2</td>\n",
       "    </tr>\n",
       "  </tbody>\n",
       "</table>\n",
       "</div>"
      ],
      "text/plain": [
       "                                annotation_id annotation_type  \\\n",
       "1    162cbc100d96539e18f3dd8a445837bfdf6d2c4f         boolean   \n",
       "9    9a1809d77dde373adc81195da44c85a3f3ddeb9d         boolean   \n",
       "14   d77a4c1443fc803a4daf4b69bcbdeb30d6559652         boolean   \n",
       "25   5c8b526242c77976c71cc4d65a45b33834dda6f5            none   \n",
       "37   bfcdb68885bdf1350102f50d764e82372ff83d8a         boolean   \n",
       "38   e3122daa6fc9705fbea240ac15e24f5b32d0eb50         boolean   \n",
       "44   7e6171878d689c3df00fbd39120fae5be22a87e6         boolean   \n",
       "48   0fed44ec716a8a7673f5d3f7d675904d9d773b96         boolean   \n",
       "49   bd6c1da455b10c077979e36651ce696e85eca0c8         boolean   \n",
       "53   87dd9eb0b55a160563bfc7edc5da79d82be44659         boolean   \n",
       "56   4fcc24fb31ad69dac38871b3736402d09fc19c55         boolean   \n",
       "58   391896a615acf134e0391001302e4c944d11455a         boolean   \n",
       "65   b4a7bf87d0696bc1b86b5eb48ee693be5d917cb4         boolean   \n",
       "67   282696575ffc20f26d205ec77f649ce5c76a8111     abstractive   \n",
       "69   70aae683445bb2665583e91a9e6d5ae4746d43a1         boolean   \n",
       "70   bae2b24ebbc3bf2da066ea43c99342bb4f2c58d7            none   \n",
       "75   1ec85962ede0447d69c9ebc3cf9aeb004678ddf5         boolean   \n",
       "80   28f414828dbd453c48239b09751c59ab82373c6b            none   \n",
       "88   76cb0665bc128e25a6f40a861d626eba4bc7d147            none   \n",
       "102  dec777c635cfb2bc735d2b56fdf16e6c5e1fb38e     abstractive   \n",
       "121  0596e64af3a847e0c948a28419268e69c1b43535     abstractive   \n",
       "137  677abb25656df57ddd31fc63532d69a5b564465b     abstractive   \n",
       "144  4ebc2c029ec2a7c09e062b24455d386830b0b1ba     abstractive   \n",
       "150  a5b18f5049e570609f001691b615ebbf0fb92023     abstractive   \n",
       "161  5103743e0b630c27ab4f9edb52bad084202bd16f     abstractive   \n",
       "185  f5f6bb057e95cc4c6fc4d9237a726d46e8d970b0     abstractive   \n",
       "\n",
       "                                              question  \\\n",
       "1            did they experiment with other languages?   \n",
       "9    Do they use all the hidden layer representations?   \n",
       "14   Does this work differentiate metaphor(techniqu...   \n",
       "25                  Did they collect their own corpus?   \n",
       "37   Do they analyze attention outputs to determine...   \n",
       "38              Are constructed datasets open sourced?   \n",
       "44   Does the baseline use any contextual information?   \n",
       "48                     Is English a pro-drop language?   \n",
       "49   Do they test against the large version of RoBE...   \n",
       "53   Does the paper list other heuristic biases in ...   \n",
       "56   Is Henry VIII reflective of Shakespeare in gen...   \n",
       "58       does incorporating user traits help the task?   \n",
       "65     did they experiment with other text embeddings?   \n",
       "67   Is this done in form of unsupervised (clusteri...   \n",
       "69   Is the embedding model test in any downstream ...   \n",
       "70   Do they analyze which types of sentences/revie...   \n",
       "75            Do they report the annotation agreement?   \n",
       "80   Do the authors report results on only English ...   \n",
       "88   Can their method be transferred to other Q&A p...   \n",
       "102  Do they use datasets with transcribed text or ...   \n",
       "121  Are the annotations automatic or manually crea...   \n",
       "137  Do they focus on Reading Comprehension or mult...   \n",
       "144  HOw does the method perform compared with base...   \n",
       "150  Does the model evaluated on NLG datasets or di...   \n",
       "161            IS the graph representation supervised?   \n",
       "185  Did ensemble schemes help in boosting peforman...   \n",
       "\n",
       "                                             reference prediction      LERC  \\\n",
       "1                                                   No        Yes  1.005072   \n",
       "9                                                  Yes        Yes  5.078454   \n",
       "14                                                  No        Yes  5.049659   \n",
       "25                                        Unanswerable         No  3.601686   \n",
       "37                                                  No         No  5.030257   \n",
       "38                                                 Yes        Yes  5.070571   \n",
       "44                                                  No         No  5.078834   \n",
       "48                                                  No         No  5.073115   \n",
       "49                                                 Yes         No  0.997800   \n",
       "53                                                 Yes         No  1.000522   \n",
       "56                                                  No        Yes  1.077209   \n",
       "58   only in the 806-class task predicting <= 25 cl...         No  5.052334   \n",
       "65                                                  No         No  0.994450   \n",
       "67                                        Unsupervised         No  1.054821   \n",
       "69                                                 Yes         No  0.922813   \n",
       "70                                        Unanswerable         No  3.351460   \n",
       "75                                                 Yes         No  1.052048   \n",
       "80                                        Unanswerable        Yes  1.096581   \n",
       "88                                        Unanswerable         No  3.445028   \n",
       "102                                               both        Yes  3.737829   \n",
       "121                                          Automatic        Yes  0.705877   \n",
       "137                 MULTIPLE CHOICE QUESTION ANSWERING         No  0.938234   \n",
       "144  On the datasets DE-EN, JA-EN, RO-EN, and EN-DE...         No  1.815972   \n",
       "150                                       NLG datasets         No  1.884987   \n",
       "161  The graph representation appears to be semi-su...         No  1.342062   \n",
       "185  They increased F1 Score by 0.029 in Sentence L...         No  1.547233   \n",
       "\n",
       "     correctness  reference_len_bin  \n",
       "1            0.0                  0  \n",
       "9            1.0                  0  \n",
       "14           1.0                  0  \n",
       "25           0.0                  0  \n",
       "37           1.0                  0  \n",
       "38           1.0                  0  \n",
       "44           1.0                  0  \n",
       "48           1.0                  0  \n",
       "49           0.0                  0  \n",
       "53           0.0                  0  \n",
       "56           0.0                  0  \n",
       "58           1.0                  1  \n",
       "65           0.0                  0  \n",
       "67           0.0                  0  \n",
       "69           0.0                  0  \n",
       "70           0.0                  0  \n",
       "75           0.0                  0  \n",
       "80           0.0                  0  \n",
       "88           0.0                  0  \n",
       "102          0.0                  0  \n",
       "121          0.0                  0  \n",
       "137          0.0                  0  \n",
       "144          0.0                  3  \n",
       "150          0.0                  0  \n",
       "161          0.5                  3  \n",
       "185          0.0                  2  "
      ]
     },
     "execution_count": 45,
     "metadata": {},
     "output_type": "execute_result"
    }
   ],
   "source": [
    "sheets[sheets.prediction.isin([\"Yes\", \"No\"])]"
   ]
  },
  {
   "cell_type": "markdown",
   "id": "c8efc130",
   "metadata": {},
   "source": [
    "Length-analysis"
   ]
  },
  {
   "cell_type": "code",
   "execution_count": 35,
   "id": "5316b896",
   "metadata": {},
   "outputs": [
    {
     "data": {
      "image/png": "[encoded data removed]",
      "text/plain": [
       "<Figure size 432x288 with 1 Axes>"
      ]
     },
     "metadata": {
      "needs_background": "light"
     },
     "output_type": "display_data"
    }
   ],
   "source": [
    "question_len = sheets[\"question\"].apply(len)\n",
    "sns.histplot(question_len, binwidth=20)\n",
    "plt.xlim(0, 700)\n",
    "plt.show()"
   ]
  },
  {
   "cell_type": "code",
   "execution_count": 36,
   "id": "9554f751",
   "metadata": {},
   "outputs": [
    {
     "data": {
      "image/png": "[encoded data removed]",
      "text/plain": [
       "<Figure size 432x288 with 1 Axes>"
      ]
     },
     "metadata": {
      "needs_background": "light"
     },
     "output_type": "display_data"
    }
   ],
   "source": [
    "reference_len = sheets[\"reference\"].apply(len)\n",
    "sns.histplot(reference_len, binwidth=20)\n",
    "plt.xlim(0, 700)\n",
    "plt.ylim(0, 100)\n",
    "\n",
    "plt.show()"
   ]
  },
  {
   "cell_type": "code",
   "execution_count": 37,
   "id": "f404ee78",
   "metadata": {},
   "outputs": [
    {
     "data": {
      "image/png": "[encoded data removed]",
      "text/plain": [
       "<Figure size 432x288 with 1 Axes>"
      ]
     },
     "metadata": {
      "needs_background": "light"
     },
     "output_type": "display_data"
    }
   ],
   "source": [
    "candidate_len = sheets[\"prediction\"].apply(len)\n",
    "sns.histplot(candidate_len, binwidth=20)\n",
    "plt.xlim(0, 700)\n",
    "plt.ylim(0, 100)\n",
    "plt.show()"
   ]
  },
  {
   "cell_type": "code",
   "execution_count": 38,
   "id": "19f027da",
   "metadata": {},
   "outputs": [
    {
     "data": {
      "text/plain": [
       "<AxesSubplot:xlabel='correctness', ylabel='Count'>"
      ]
     },
     "execution_count": 38,
     "metadata": {},
     "output_type": "execute_result"
    },
    {
     "data": {
      "image/png": "[encoded data removed]",
      "text/plain": [
       "<Figure size 432x288 with 1 Axes>"
      ]
     },
     "metadata": {
      "needs_background": "light"
     },
     "output_type": "display_data"
    }
   ],
   "source": [
    "LENGTH_BINS = {\n",
    "    0: [0, 50], \n",
    "    1: [51, 100],\n",
    "    2: [101, 200],\n",
    "    3: [201, 700]\n",
    "}\n",
    "\n",
    "def get_length_bins(length, groups=LENGTH_BINS):\n",
    "    for group_name, group_interval in groups.items():\n",
    "        if group_interval[0] <= length <= group_interval[1]:\n",
    "            return group_name\n",
    "        \n",
    "\n",
    "reference_len_bins = reference_len.apply(get_length_bins)\n",
    "sheets[\"reference_len_bin\"] = reference_len_bins\n",
    "sns.histplot(data=sheets, x=\"correctness\", hue=\"reference_len_bin\", multiple=\"stack\")"
   ]
  },
  {
   "cell_type": "code",
   "execution_count": 39,
   "id": "68bffb73",
   "metadata": {},
   "outputs": [
    {
     "data": {
      "text/plain": [
       "<AxesSubplot:xlabel='reference_len_bin', ylabel='correctness'>"
      ]
     },
     "execution_count": 39,
     "metadata": {},
     "output_type": "execute_result"
    },
    {
     "data": {
      "image/png": "[encoded data removed]",
      "text/plain": [
       "<Figure size 432x288 with 1 Axes>"
      ]
     },
     "metadata": {
      "needs_background": "light"
     },
     "output_type": "display_data"
    }
   ],
   "source": [
    "sns.boxplot(data=sheets, y=\"correctness\", x=\"reference_len_bin\")"
   ]
  },
  {
   "cell_type": "markdown",
   "id": "f62cc38d",
   "metadata": {},
   "source": [
    "Observations:\n",
    "- Annotated examples are extremely left-skewed.\n",
    "- Only 10 are exact matches, 2 of which are assigned a score of 0.\n",
    "- Most annotated examples are abstractive.\n",
    "- References answers' length has a heavier tail than predictions. "
   ]
  },
  {
   "cell_type": "code",
   "execution_count": null,
   "id": "f485d5a3",
   "metadata": {},
   "outputs": [],
   "source": []
  },
  {
   "cell_type": "markdown",
   "id": "dd626899",
   "metadata": {},
   "source": [
    "Create dataset for LERC: \n",
    "\n",
    "```python\n",
    "\"03bca10ea62bfb7de881f842a35674a5\": {\n",
    "    \"candidate\": \"Chinese nationals\",\n",
    "    \"context\": \"The city of Bangkok has a population of 8,280,925 according to the 2010 census, or 12.6 percent of the national population. In 2018, the population has been estimated to be about 10 million. Roughly half are internal Thai immigrants from other provinces. Only 5,692,284 residents, belonging to 2,672,423 households, registered Bangkok as their legal domicile. A large number of Bangkoks daytime population commutes from surrounding provinces in the Bangkok Metropolitan Region, the total population of which is 14,565,547. Bangkok is a cosmopolitan city; the census showed that it is home to 81,570 Japanese and 55,893 Chinese nationals, as well as 117,071 expatriates from other Asian countries, 48,341 from Europe, 23,418 from the Americas, 5,289 from Australia and 3,022 from Africa. Immigrants from neighbouring countries include 303,595 Burmese, 63,438 Cambodians and 18,126 Lao. In 2018, numbers show that there are 370,000 international migrants registered with the Department of Employment, more than half of them migrants from Cambodia, Laos, and Myanmar.\",\n",
    "    \"metadata\": {\n",
    "        \"scores\": [1, 1],\n",
    "        \"source\": \"naqanet\"\n",
    "    },\n",
    "    \"question\": \"Which group had the smallest amount of foreign nationals in Bangkok?\",\n",
    "    \"reference\": \"Africa\",\n",
    "    \"score\": 1\n",
    "}       \n",
    "```"
   ]
  },
  {
   "cell_type": "code",
   "execution_count": 59,
   "id": "cc87a008",
   "metadata": {},
   "outputs": [],
   "source": [
    "from typing import Dict, Tuple\n",
    "\n",
    "\n",
    "def to_lerc_format(example) -> Tuple[str, Dict]:\n",
    "    key = example[\"annotation_id\"]\n",
    "    \n",
    "    \n",
    "    d = {\n",
    "        \"context\": \"\",\n",
    "        \"question\": example[\"question\"],\n",
    "        \"candidate\": example[\"prediction\"],\n",
    "        \"reference\": example[\"reference\"],\n",
    "        \"metadata\": {\n",
    "            \"scores\": [example[\"correctness\"]],\n",
    "            \"source\": \"longformer\",\n",
    "        },\n",
    "        \"score\": example[\"correctness\"],\n",
    "        \"score_scaled\": example[\"correctness\"],\n",
    "        \"LERC\": example[\"LERC\"],\n",
    "    }\n",
    "    \n",
    "    return key, d\n",
    "\n"
   ]
  },
  {
   "cell_type": "code",
   "execution_count": 60,
   "id": "eac65737",
   "metadata": {},
   "outputs": [],
   "source": [
    "qasper_dataset = {}\n",
    "\n",
    "for i, example in sheets.iterrows():\n",
    "    key, example = to_lerc_format(example)\n",
    "    qasper_dataset[key] = example\n",
    "    \n",
    "# Write to file\n",
    "from create_datasets import write_json_dataset\n",
    "\n",
    "\n",
    "write_json_dataset({\"qasper\": qasper_dataset}, \"../data/lr_experiments\", \"qasper\")"
   ]
  },
  {
   "cell_type": "code",
   "execution_count": 61,
   "id": "441b88c8",
   "metadata": {},
   "outputs": [
    {
     "ename": "NameError",
     "evalue": "name 'ROOT_DIR' is not defined",
     "output_type": "error",
     "traceback": [
      "\u001b[0;31m---------------------------------------------------------------------------\u001b[0m",
      "\u001b[0;31mNameError\u001b[0m                                 Traceback (most recent call last)",
      "Input \u001b[0;32mIn [61]\u001b[0m, in \u001b[0;36m<cell line: 3>\u001b[0;34m()\u001b[0m\n\u001b[1;32m      1\u001b[0m \u001b[38;5;28;01mfrom\u001b[39;00m \u001b[38;5;21;01mcreate_datasets\u001b[39;00m \u001b[38;5;28;01mimport\u001b[39;00m create_dataset\n\u001b[0;32m----> 3\u001b[0m ORIGINAL_MOCHA_DIR \u001b[38;5;241m=\u001b[39m \u001b[38;5;124mf\u001b[39m\u001b[38;5;124m\"\u001b[39m\u001b[38;5;132;01m{\u001b[39;00mROOT_DIR\u001b[38;5;132;01m}\u001b[39;00m\u001b[38;5;124m/data/lr_experiments\u001b[39m\u001b[38;5;124m\"\u001b[39m\n\u001b[1;32m      4\u001b[0m PREPROC_DIR \u001b[38;5;241m=\u001b[39m \u001b[38;5;124mf\u001b[39m\u001b[38;5;124m\"\u001b[39m\u001b[38;5;132;01m{\u001b[39;00mROOT_DIR\u001b[38;5;132;01m}\u001b[39;00m\u001b[38;5;124m/data/lr_experiments\u001b[39m\u001b[38;5;124m\"\u001b[39m\n\u001b[1;32m      5\u001b[0m os\u001b[38;5;241m.\u001b[39mmakedirs(PREPROC_DIR, exist_ok\u001b[38;5;241m=\u001b[39m\u001b[38;5;28;01mTrue\u001b[39;00m)\n",
      "\u001b[0;31mNameError\u001b[0m: name 'ROOT_DIR' is not defined"
     ]
    }
   ],
   "source": [
    "from create_datasets import create_dataset\n",
    "\n",
    "ROOT_DIR = \"..\"\n",
    "ORIGINAL_MOCHA_DIR = f\"{ROOT_DIR}/data/lr_experiments\"\n",
    "PREPROC_DIR = f\"{ROOT_DIR}/data/lr_experiments\"\n",
    "os.makedirs(PREPROC_DIR, exist_ok=True)\n",
    "\n",
    "W2VEC_MODEL = 'GoogleNews-vectors-negative300'\n",
    "W2VEC_PATH = f\"{ROOT_DIR}/data/preprocessing/{W2VEC_MODEL}.bin.gz\"\n",
    "\n",
    "default_kwargs = {\n",
    "    \"output_dir\": PREPROC_DIR,\n",
    "    \"w2vec_path\": W2VEC_PATH,\n",
    "}\n",
    "\n",
    "# Create raw metric modeling datasets (w/ different metrics)\n",
    "create_dataset(ORIGINAL_MOCHA_DIR, \"qasper\", **default_kwargs)"
   ]
  },
  {
   "cell_type": "markdown",
   "id": "565dde54",
   "metadata": {},
   "source": [
    "### "
   ]
  },
  {
   "cell_type": "code",
   "execution_count": null,
   "id": "293b79e0",
   "metadata": {},
   "outputs": [],
   "source": []
  }
 ],
 "metadata": {
  "kernelspec": {
   "display_name": "Python 3 (ipykernel)",
   "language": "python",
   "name": "python3"
  },
  "language_info": {
   "codemirror_mode": {
    "name": "ipython",
    "version": 3
   },
   "file_extension": ".py",
   "mimetype": "text/x-python",
   "name": "python",
   "nbconvert_exporter": "python",
   "pygments_lexer": "ipython3",
   "version": "3.9.12"
  },
  "toc": {
   "base_numbering": 1,
   "nav_menu": {},
   "number_sections": true,
   "sideBar": true,
   "skip_h1_title": true,
   "title_cell": "Table of Contents",
   "title_sidebar": "Contents",
   "toc_cell": false,
   "toc_position": {},
   "toc_section_display": true,
   "toc_window_display": false
  }
 },
 "nbformat": 4,
 "nbformat_minor": 5
}
