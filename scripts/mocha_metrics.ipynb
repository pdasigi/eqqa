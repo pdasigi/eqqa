{
 "cells": [
  {
   "cell_type": "markdown",
   "id": "39daa2c2",
   "metadata": {},
   "source": [
    "To run this script, download the [MOCHA.tar.gz](https://github.com/anthonywchen/MOCHA/blob/main/data/mocha.tar.gz) and extract it to `data/mocha`. This script will use the following frameworks:\n",
    "- `SPACY` for tokenization;\n",
    "- HuggingFace `datasets` for evaluation."
   ]
  },
  {
   "cell_type": "code",
   "execution_count": 3,
   "id": "73d76c89",
   "metadata": {},
   "outputs": [],
   "source": [
    "# Data loading\n",
    "import json\n",
    "\n",
    "# Tokenization\n",
    "import spacy\n",
    "!python3 -m spacy download en_core_web_sm\n",
    "\n",
    "# Evaluation\n",
    "import datasets"
   ]
  },
  {
   "cell_type": "code",
   "execution_count": 20,
   "id": "c4c56704",
   "metadata": {},
   "outputs": [],
   "source": [
    "# the (lowercase) name of the dataset to run the analysis for\n",
    "DATASET = \"narrativeqa\"\n",
    "\n",
    "# Data directory: where to look for a model\n",
    "DATA_DIR = \"../data/mocha/\"\n",
    "\n",
    "# Full filepath to load\n",
    "FILEPATH = f\"{DATA_DIR}/dev.json\"\n",
    "\n",
    "# Evaluation tokenizer\n",
    "EVALUATION_TOKENIZER = spacy.load(\"en_core_web_sm\", disable=[\"parser\", \"ner\"])"
   ]
  },
  {
   "cell_type": "code",
   "execution_count": 22,
   "id": "22fb50b1",
   "metadata": {},
   "outputs": [
    {
     "name": "stdout",
     "output_type": "stream",
     "text": [
      "Number of examples: 890\n"
     ]
    },
    {
     "data": {
      "text/plain": [
       "('0005c7718ff653683df879622efb02d1',\n",
       " {'candidate': 'his distant relative pascal rougon',\n",
       "  'context': \"The plot centres on the neurotic young priest Serge Mouret, first seen in La ConquĂŞte de Plassans, as he takes his orders and becomes the parish priest for the uninterested village of Artauds. The inbred villagers have no interest in religion and Serge is portrayed giving several wildly enthusiastic Masses to his completely empty, near-derelict church. Serge not only seems unperturbed by this state of affairs but actually appears to have positively sought it out especially, for it gives him time to contemplate religious affairs and to fully experience the fervour of his faith. Eventually he has a complete nervous breakdown and collapses into a near-comatose state, whereupon his distant relative, the unconventional doctor Pascal Rougon (the central character of the last novel in the series, 1893's Le Docteur Pascal), places him in the care of the inhabitants of a nearby derelict stately home, Le Paradou. The novel then takes a complete new direction in terms of both tone and style, as Serge - suffering from amnesia and total long-term memory loss, with no idea who or where he is beyond his first name - is doted upon by Albine, the whimsical, innocent and entirely uneducated girl who has been left to grow up practically alone and wild in the vast, sprawling, overgrown grounds of Le Paradou. The two of them live a life of idyllic bliss with many Biblical parallels, and over the course of a number of months, they fall deeply in love with one another; however, at the moment they consummate their relationship, they are discovered by Serge's monstrous former monseignor and his memory is instantly returned to him. Wracked with guilt at his unwitting sins, Serge is plunged into a deeper religious fervour than ever before, and poor Albine is left bewildered at the loss of her soulmate. As with many of Zola's earlier works, the novel then builds to a horrible climax.\",\n",
       "  'metadata': {'scores': [5, 5, 4], 'source': 'mhpg'},\n",
       "  'question': 'Who put Serge Mouret in a home care?',\n",
       "  'reference': 'Le Docteur Pascal',\n",
       "  'score': 4.666666666666667})"
      ]
     },
     "execution_count": 22,
     "metadata": {},
     "output_type": "execute_result"
    }
   ],
   "source": [
    "data = json.load(open(FILEPATH))\n",
    "data = data[DATASET] if DATASET is not None else data\n",
    "print(\"Number of examples:\", len(data))\n",
    "next(iter(data.items()))"
   ]
  },
  {
   "cell_type": "code",
   "execution_count": 25,
   "id": "7ead3cf4",
   "metadata": {},
   "outputs": [],
   "source": [
    "def tokenize(texts, tokens=True, sep: str = \" \", tokenizer=EVALUATION_TOKENIZER) -> list:\n",
    "    arg_is_str = isinstance(texts, str)\n",
    "    if arg_is_str:\n",
    "        texts = [texts]\n",
    "\n",
    "    results = []\n",
    "    for text in texts:\n",
    "        text_tokens = tokenizer(text)\n",
    "        text_tokens = [str(t) for t in text_tokens]\n",
    "        results.append(text_tokens if tokens else [sep.join(text_tokens)])\n",
    "\n",
    "    return results[0] if arg_is_str else results\n",
    "\n",
    "# Sanity check\n",
    "assert tokenize(\"Hello, world!\") == ['Hello', ',', 'world', '!']\n",
    "assert tokenize([\"Hello, world!\"]) == [['Hello', ',', 'world', '!']]\n",
    "assert tokenize([\"Hello, world!\", \"Ola, mundo!\"]) == [['Hello', ',', 'world', '!'], [\"Ola\", \",\", \"mundo\", \"!\"]]"
   ]
  },
  {
   "cell_type": "code",
   "execution_count": null,
   "id": "5351a0c1",
   "metadata": {},
   "outputs": [],
   "source": [
    "# We will now proceed to the tokenization\n"
   ]
  },
  {
   "cell_type": "code",
   "execution_count": null,
   "id": "ad6dae20",
   "metadata": {},
   "outputs": [],
   "source": []
  },
  {
   "cell_type": "code",
   "execution_count": null,
   "id": "cbe7f8d1",
   "metadata": {},
   "outputs": [],
   "source": []
  }
 ],
 "metadata": {
  "kernelspec": {
   "display_name": "Python 3 (ipykernel)",
   "language": "python",
   "name": "python3"
  },
  "language_info": {
   "codemirror_mode": {
    "name": "ipython",
    "version": 3
   },
   "file_extension": ".py",
   "mimetype": "text/x-python",
   "name": "python",
   "nbconvert_exporter": "python",
   "pygments_lexer": "ipython3",
   "version": "3.9.12"
  },
  "toc": {
   "base_numbering": 1,
   "nav_menu": {},
   "number_sections": true,
   "sideBar": true,
   "skip_h1_title": true,
   "title_cell": "Table of Contents",
   "title_sidebar": "Contents",
   "toc_cell": false,
   "toc_position": {},
   "toc_section_display": true,
   "toc_window_display": false
  }
 },
 "nbformat": 4,
 "nbformat_minor": 5
}
