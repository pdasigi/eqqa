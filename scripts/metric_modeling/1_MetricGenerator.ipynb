{
 "cells": [
  {
   "cell_type": "code",
   "execution_count": 1,
   "id": "ccfa21dc",
   "metadata": {},
   "outputs": [],
   "source": [
    "import os\n",
    "import json"
   ]
  },
  {
   "cell_type": "code",
   "execution_count": 2,
   "id": "01c7d276",
   "metadata": {},
   "outputs": [],
   "source": [
    "def read_json_dataset(parent_dir: str, filename: str, dataset: str=None) -> dict:\n",
    "    \"\"\"Loads the dataset from the specified path. \n",
    "    \n",
    "    It assumes the dataset is in JSON format and that is\n",
    "    represented as {tag1: {examples}, tag2: {...}, ...}\n",
    "    where tag1 and tag2 are dataset tags that the user\n",
    "    can specify. If none are specified all the datasets\n",
    "    will be returned.\n",
    "    \"\"\"\n",
    "    data = json.load(open(f\"{parent_dir}/{filename}.json\"))\n",
    "    \n",
    "    if dataset is None:\n",
    "        datasets = list(data.keys())\n",
    "    else:\n",
    "        datasets = dataset if isinstance(dataset, list) else [dataset]\n",
    "    data = {d: datum for d, datum in data.items() if d in datasets}\n",
    "    return data\n",
    "\n",
    "\n",
    "def write_json_dataset(data, parent_dir, filename):\n",
    "    output_file = f\"{parent_dir}/{filename}.json\"\n",
    "    with open(output_file, 'w', encoding='utf-8') as writer:\n",
    "        json.dump(data, writer, ensure_ascii=False, indent=2)\n",
    "        \n",
    "\n",
    "def create_dataset(mocha_dataset, parent_dir, dataset, split, **kwargs):\n",
    "    from metrics import compute_metrics\n",
    "    compute_metrics({dataset: mocha_dataset[dataset]}, **kwargs)\n",
    "    \n",
    "    new_examples = {}\n",
    "    for example_id, example in mocha_dataset[dataset].items():\n",
    "        example[\"dataset\"] = dataset\n",
    "        example[\"split\"] = split\n",
    "        new_examples[f\"{dataset}-{example_id}\"] = example\n",
    "    \n",
    "    write_json_dataset(new_examples, parent_dir, f\"mocha_mmproc_{dataset}_{split}\")"
   ]
  },
  {
   "cell_type": "markdown",
   "id": "7f97c257",
   "metadata": {},
   "source": [
    "## Create datasets for metric modelling"
   ]
  },
  {
   "cell_type": "code",
   "execution_count": 3,
   "id": "9f7fd5ba",
   "metadata": {},
   "outputs": [],
   "source": [
    "ROOT_DIR = \"../..\"\n",
    "ORIGINAL_MOCHA_DIR = f\"{ROOT_DIR}/data/metric-modeling/mocha\"\n",
    "\n",
    "PREPROC_DIR = f\"{ROOT_DIR}/data/raw_splits\"\n",
    "os.makedirs(PREPROC_DIR, exist_ok=True)\n",
    "\n",
    "W2VEC_MODEL = 'GoogleNews-vectors-negative300'\n",
    "W2VEC_PATH = f\"../../data/preprocessing/{W2VEC_MODEL}.bin.gz\"\n",
    "\n",
    "default_kwargs = {\n",
    "    \"parent_dir\": PREPROC_DIR,\n",
    "    \"w2vec_path\": W2VEC_PATH,\n",
    "}\n",
    "\n",
    "def create_dataset_from_MOCHA(path, split, **kwargs):\n",
    "    data = read_json_dataset(path, split)\n",
    "    datasets = list(data.keys())\n",
    "\n",
    "    for dataset in datasets:\n",
    "        print(\"=\" * 30, dataset, \"=\" * 30)\n",
    "        create_dataset(mocha_dataset=data, dataset=dataset, split=split, **kwargs)\n",
    "\n",
    "        # Hopefully calls Garbage collection (since there is no longer a reference)\n",
    "        d = data[dataset]\n",
    "        data[dataset] = {}\n",
    "        del d\n",
    "\n",
    "    del data\n",
    "    del datasets"
   ]
  },
  {
   "cell_type": "raw",
   "id": "189f636d",
   "metadata": {},
   "source": [
    "%%time\n",
    "create_dataset_from_MOCHA(ORIGINAL_MOCHA_DIR, \"dev\", **default_kwargs)"
   ]
  },
  {
   "cell_type": "raw",
   "id": "d591c0ed",
   "metadata": {},
   "source": [
    "create_dataset_from_MOCHA(ORIGINAL_MOCHA_DIR, \"test\", **default_kwargs)"
   ]
  },
  {
   "cell_type": "raw",
   "id": "834e863f",
   "metadata": {},
   "source": [
    "create_dataset_from_MOCHA(ORIGINAL_MOCHA_DIR, \"train\", **default_kwargs)"
   ]
  },
  {
   "cell_type": "markdown",
   "id": "cff272b2",
   "metadata": {},
   "source": [
    "## Merge datasets for experiments \n",
    "\n",
    "We are interested in two types of experiments:\n",
    "- __All datasets__ (AD): Train over all datasets and evaluate in all others\n",
    "- __Leave-one-out__ (LOO): Train in all datasets except one, evaluate in the last"
   ]
  },
  {
   "cell_type": "code",
   "execution_count": 8,
   "id": "6f6f6004",
   "metadata": {},
   "outputs": [],
   "source": [
    "def shuffle_dict(d: dict, seed=61723) -> dict:\n",
    "    \"\"\"Shuffle dict keys.\n",
    "    \n",
    "    Starting from Python 3.7 dictionaries preserve insertion order.\n",
    "    This method randomly shuffles the elements in the dict.\n",
    "    \"\"\"\n",
    "    import random \n",
    "    random.seed(seed)\n",
    "    # Create a tuple w/ the key-value pairs\n",
    "    d = list(d.items())\n",
    "\n",
    "    # Shuffle the list\n",
    "    random.shuffle(d)\n",
    "    return dict(d)"
   ]
  },
  {
   "cell_type": "markdown",
   "id": "a13828a4",
   "metadata": {},
   "source": [
    "### All_Datasets"
   ]
  },
  {
   "cell_type": "code",
   "execution_count": null,
   "id": "63a940bd",
   "metadata": {},
   "outputs": [],
   "source": [
    "def create_all_datasets_experiment(raw_dir, exp_dir, datasets, split, prefix=\"mocha_mmproc_\"):\n",
    "    final_dataset = {}\n",
    "    \n",
    "    for dataset in datasets:\n",
    "        filename = f\"{prefix}{dataset}_{split}\"\n",
    "        \n",
    "        data = read_json_dataset(raw_dir, filename)\n",
    "        final_dataset.update(data)\n",
    "    \n",
    "    final_dataset = shuffle_dict(final_dataset)\n",
    "    write_json_dataset(final_dataset, exp_dir, split)"
   ]
  },
  {
   "cell_type": "code",
   "execution_count": 10,
   "id": "76fc81c9",
   "metadata": {},
   "outputs": [],
   "source": [
    "DATASETS = (\"cosmosqa\", \"drop\", \"mcscript\", \"narrativeqa\", \"quoref\", \"socialiqa\")\n",
    "create_all_datasets_experiment(PREPROC_DIR, f\"{PREPROC_DIR}/all_datasets\", DATASETS, \"dev\")\n",
    "create_all_datasets_experiment(PREPROC_DIR, f\"{PREPROC_DIR}/all_datasets\", DATASETS, \"test\")\n",
    "# create_all_datasets_experiment(PREPROC_DIR, f\"{PREPROC_DIR}/all_datasets\", DATASETS, \"train\")"
   ]
  },
  {
   "cell_type": "code",
   "execution_count": 11,
   "id": "38d4f523",
   "metadata": {},
   "outputs": [
    {
     "name": "stdout",
     "output_type": "stream",
     "text": [
      "dev.json  test.json\r\n"
     ]
    }
   ],
   "source": [
    "!ls ../../data/raw_splits/all_datasets"
   ]
  },
  {
   "cell_type": "markdown",
   "id": "448b5822",
   "metadata": {},
   "source": [
    "### LOOV datasets"
   ]
  },
  {
   "cell_type": "code",
   "execution_count": 20,
   "id": "c9671950",
   "metadata": {},
   "outputs": [],
   "source": [
    "def create_loov_experiment(raw_dir, exp_dir, datasets, split, prefix=\"mocha_mmproc_\"):\n",
    "    def _get_dataset(datasets):\n",
    "        final_dataset = {}\n",
    "\n",
    "        for dataset in datasets:\n",
    "            filename = f\"{prefix}{dataset}_{split}\"\n",
    "            data = read_json_dataset(raw_dir, filename)\n",
    "            final_dataset.update(data)\n",
    "\n",
    "        return shuffle_dict(final_dataset)\n",
    "    \n",
    "    for i, _ in enumerate(datasets):\n",
    "        loo_dataset = datasets[i]\n",
    "        final_dataset = _get_dataset(datasets[:i] + datasets[i+1:])\n",
    "        write_json_dataset(final_dataset, exp_dir, f\"except_{loo_dataset}_{split}\")\n",
    "    \n",
    "        data = read_json_dataset(raw_dir, f\"{prefix}{loo_dataset}_{split}\")\n",
    "        write_json_dataset(data, exp_dir, f\"{loo_dataset}_{split}\")"
   ]
  },
  {
   "cell_type": "code",
   "execution_count": 21,
   "id": "a8439bd2",
   "metadata": {},
   "outputs": [],
   "source": [
    "DATASETS = (\"cosmosqa\", \"drop\", \"mcscript\", \"narrativeqa\", \"quoref\", \"socialiqa\")\n",
    "create_loov_experiment(PREPROC_DIR, f\"{PREPROC_DIR}/loov_datasets\", DATASETS, \"dev\")\n",
    "create_loov_experiment(PREPROC_DIR, f\"{PREPROC_DIR}/loov_datasets\", DATASETS, \"test\")\n",
    "# create_all_datasets_experiment(PREPROC_DIR, f\"{PREPROC_DIR}/all_datasets\", DATASETS, \"train\")"
   ]
  },
  {
   "cell_type": "code",
   "execution_count": 22,
   "id": "85782890",
   "metadata": {},
   "outputs": [
    {
     "name": "stdout",
     "output_type": "stream",
     "text": [
      "cosmosqa_dev.json\t   except_mcscript_dev.json\t mcscript_dev.json\r\n",
      "cosmosqa_test.json\t   except_mcscript_test.json\t mcscript_test.json\r\n",
      "drop_dev.json\t\t   except_narrativeqa_dev.json\t narrativeqa_dev.json\r\n",
      "drop_test.json\t\t   except_narrativeqa_test.json  narrativeqa_test.json\r\n",
      "except_cosmosqa_dev.json   except_quoref_dev.json\t quoref_dev.json\r\n",
      "except_cosmosqa_test.json  except_quoref_test.json\t quoref_test.json\r\n",
      "except_drop_dev.json\t   except_socialiqa_dev.json\t socialiqa_dev.json\r\n",
      "except_drop_test.json\t   except_socialiqa_test.json\t socialiqa_test.json\r\n"
     ]
    }
   ],
   "source": [
    "!ls ../../data/raw_splits/loov_datasets/"
   ]
  },
  {
   "cell_type": "code",
   "execution_count": null,
   "id": "28c3aa86",
   "metadata": {},
   "outputs": [],
   "source": []
  },
  {
   "cell_type": "code",
   "execution_count": null,
   "id": "8923c266",
   "metadata": {},
   "outputs": [],
   "source": []
  }
 ],
 "metadata": {
  "kernelspec": {
   "display_name": "Python 3 (ipykernel)",
   "language": "python",
   "name": "python3"
  },
  "language_info": {
   "codemirror_mode": {
    "name": "ipython",
    "version": 3
   },
   "file_extension": ".py",
   "mimetype": "text/x-python",
   "name": "python",
   "nbconvert_exporter": "python",
   "pygments_lexer": "ipython3",
   "version": "3.9.12"
  },
  "toc": {
   "base_numbering": 1,
   "nav_menu": {},
   "number_sections": true,
   "sideBar": true,
   "skip_h1_title": true,
   "title_cell": "Table of Contents",
   "title_sidebar": "Contents",
   "toc_cell": false,
   "toc_position": {},
   "toc_section_display": true,
   "toc_window_display": false
  }
 },
 "nbformat": 4,
 "nbformat_minor": 5
}
